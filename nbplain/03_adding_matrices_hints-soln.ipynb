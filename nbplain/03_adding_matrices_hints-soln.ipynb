{
 "cells": [
  {
   "cell_type": "code",
   "execution_count": 1,
   "metadata": {},
   "outputs": [],
   "source": [
    "function output = addMatrices (A,B);\n",
    "\n",
    "    dimesions_of_A = size(A);\n",
    "    dimesions_of_B = size(B);\n",
    "    \n",
    "    rows_A = dimesions_of_A(1);\n",
    "    columns_A = dimesions_of_A(2);\n",
    "    \n",
    "    rows_B = dimesions_of_B(1);\n",
    "    columns_B = dimesions_of_B(2);\n",
    "\n",
    "    if rows_A ~= rows_B\n",
    "        disp(\"rows must match\")\n",
    "        return\n",
    "    end\n",
    "    \n",
    "    if columns_A ~= columns_B\n",
    "        disp(\"columns must match\")\n",
    "        return\n",
    "    end\n",
    "        \n",
    "    output = zeros(rows_A, columns_B);\n",
    "    \n",
    "    for row = 1:rows_A\n",
    "        for column = 1:columns_A\n",
    "            output(row,column) = A(row,column) + B(row,column);\n",
    "        end\n",
    "    end\n",
    "end"
   ]
  },
  {
   "cell_type": "markdown",
   "metadata": {},
   "source": [
    "Testing the function by adding one to each element on the diagonal of a magic square."
   ]
  },
  {
   "cell_type": "code",
   "execution_count": 2,
   "metadata": {},
   "outputs": [
    {
     "name": "stdout",
     "output_type": "stream",
     "text": [
      "A =\n",
      "\n",
      "Diagonal Matrix\n",
      "\n",
      "   1   0   0   0\n",
      "   0   1   0   0\n",
      "   0   0   1   0\n",
      "   0   0   0   1\n",
      "\n",
      "B =\n",
      "\n",
      "   16    2    3   13\n",
      "    5   11   10    8\n",
      "    9    7    6   12\n",
      "    4   14   15    1\n",
      "\n",
      "ans =\n",
      "\n",
      "   17    2    3   13\n",
      "    5   12   10    8\n",
      "    9    7    7   12\n",
      "    4   14   15    2\n",
      "\n"
     ]
    }
   ],
   "source": [
    "A = eye(4)\n",
    "B = magic(4)\n",
    "addMatrices(A,B)"
   ]
  },
  {
   "cell_type": "markdown",
   "metadata": {},
   "source": [
    "Tesing function with incompatible matrices."
   ]
  },
  {
   "cell_type": "code",
   "execution_count": 3,
   "metadata": {},
   "outputs": [
    {
     "name": "stdout",
     "output_type": "stream",
     "text": [
      "C =\n",
      "\n",
      "   1   1\n",
      "   1   1\n",
      "\n",
      "D =\n",
      "\n",
      "   8   1   6\n",
      "   3   5   7\n",
      "   4   9   2\n",
      "\n",
      "rows must match\n"
     ]
    }
   ],
   "source": [
    "C = ones(2)\n",
    "D = magic(3)\n",
    "addMatrices(C,D)"
   ]
  }
 ],
 "metadata": {
  "celltoolbar": "Slideshow",
  "kernelspec": {
   "display_name": "Octave",
   "language": "octave",
   "name": "octave"
  },
  "language_info": {
   "file_extension": ".m",
   "help_links": [
    {
     "text": "GNU Octave",
     "url": "https://www.gnu.org/software/octave/support.html"
    },
    {
     "text": "Octave Kernel",
     "url": "https://github.com/Calysto/octave_kernel"
    },
    {
     "text": "MetaKernel Magics",
     "url": "https://metakernel.readthedocs.io/en/latest/source/README.html"
    }
   ],
   "mimetype": "text/x-octave",
   "name": "octave",
   "version": "4.0.3"
  }
 },
 "nbformat": 4,
 "nbformat_minor": 2
}
