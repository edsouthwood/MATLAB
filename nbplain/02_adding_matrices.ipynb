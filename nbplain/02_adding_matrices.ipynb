{
 "cells": [
  {
   "cell_type": "markdown",
   "metadata": {
    "slideshow": {
     "slide_type": "slide"
    }
   },
   "source": [
    "# Adding Matrices"
   ]
  },
  {
   "cell_type": "markdown",
   "metadata": {
    "slideshow": {
     "slide_type": "subslide"
    }
   },
   "source": [
    "## Matrix Addtion:\n",
    "\n",
    "![Matrix addition example](https://upload.wikimedia.org/wikipedia/en/math/9/7/3/973b1461ec9b7c49a781e39aa22623c2.png)\n",
    "\n",
    "Matrix addtion can only occur with matrices of the same dimesion (sorry MATLAB you're breaking the law with your inbuilt funcitons). Each element in the first matrix is added to the corresponding element in the second.\n",
    "\n",
    "![Matrix addtion algebraic example](https://upload.wikimedia.org/wikipedia/en/math/7/e/c/7ec5cd9a9e5ef6cf052bfeed0cb8f0b3.png)"
   ]
  },
  {
   "cell_type": "markdown",
   "metadata": {
    "slideshow": {
     "slide_type": "slide"
    }
   },
   "source": [
    "You task is to write a function that does the following: \n",
    "\n",
    "- adds two matrices of the same size\n",
    "- generates an error if two different matrices are supplied as an input\n",
    "- Extension: write a series of tests for your function\n"
   ]
  },
  {
   "cell_type": "markdown",
   "metadata": {
    "slideshow": {
     "slide_type": "slide"
    }
   },
   "source": [
    "## Key Points:\n",
    "- Good luck creating your programs"
   ]
  }
 ],
 "metadata": {
  "celltoolbar": "Slideshow",
  "kernelspec": {
   "display_name": "Python 3",
   "language": "python",
   "name": "python3"
  },
  "language_info": {
   "codemirror_mode": {
    "name": "ipython",
    "version": 3
   },
   "file_extension": ".py",
   "mimetype": "text/x-python",
   "name": "python",
   "nbconvert_exporter": "python",
   "pygments_lexer": "ipython3",
   "version": "3.5.3"
  }
 },
 "nbformat": 4,
 "nbformat_minor": 2
}
