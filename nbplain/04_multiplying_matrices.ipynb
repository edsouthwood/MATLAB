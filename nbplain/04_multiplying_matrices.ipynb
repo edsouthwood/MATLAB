{
 "cells": [
  {
   "cell_type": "markdown",
   "metadata": {
    "slideshow": {
     "slide_type": "slide"
    }
   },
   "source": [
    "# Multiplying Matrices"
   ]
  },
  {
   "cell_type": "raw",
   "metadata": {
    "slideshow": {
     "slide_type": "subslide"
    }
   },
   "source": [
    "## Overview:\n",
    "- **Teaching:** 0 min\n",
    "- **Exercises:** 10 min\n",
    "\n",
    "**Questions**\n",
    "- Create a function to add matrices including looking out for incompatable matrices\n",
    "\n",
    "**Objectives**\n",
    "- Create a sophisticated program from scratch."
   ]
  },
  {
   "cell_type": "markdown",
   "metadata": {},
   "source": [
    "### Quick reminder about matrix multiplication\n",
    "\n",
    "Multiplying two matrices requires elements in the first matrix's rows to be multipled with elements in the second matrices columns these products are then added. The procedure is shown below for a square matrix:\n",
    "\n",
    "The first row's elements multiplied by respective first column's elements then added gives the following.\n",
    "\n",
    "$$ \\begin{pmatrix} \\color{red}1 & \\color{red}3 \\\\ 5 & 7 \\end{pmatrix} \\times \\begin{pmatrix} \\color{blue}2 & 4 \\\\ \\color{blue}6 & 8 \\end{pmatrix} = \\begin{pmatrix} \\color{red}1 \\times \\color{blue}2 + \\color{red}3 \\times \\color{blue}6 & \\dots \\\\ \\dots & \\dots \\end{pmatrix} $$\n",
    "\n",
    "In the same way the first row is multiplied by second column to give the element at $a_{1,2}$. Notice the how results position is given by the row and column used in the multiplication.\n",
    "\n",
    "$$ \\begin{pmatrix} \\color{red}1 & \\color{red}3 \\\\ 5 & 7 \\end{pmatrix} \\times \\begin{pmatrix} 2 & \\color{blue}4 \\\\ 6 & \\color{blue}8 \\end{pmatrix} = \\begin{pmatrix} 20 & \\color{red}1 \\times \\color{blue}4 + \\color{red}3 \\times \\color{blue}8 \\\\ \\dots & \\dots \\end{pmatrix} $$\n",
    "\n",
    "The second row multiplied by first column. Again the position is given by the row and column being multiplied.\n",
    "\n",
    "$$\\begin{pmatrix} 1 & 3 \\\\ \\color{red}5 & \\color{red}7 \\end{pmatrix} \\times \\begin{pmatrix} \\color{blue}2 & 4 \\\\ \\color{blue}6 & 8 \\end{pmatrix} = \\begin{pmatrix} 20 & 28 \\\\ \\color{red}5 \\times \\color{blue}2 + \\color{red}7 \\times \\color{blue}6 & \\dots \\end{pmatrix}$$\n",
    "\n",
    "And finally, second row multiplied by second column. \n",
    "\n",
    "$$\\begin{pmatrix} 1 & 3 \\\\ \\color{red}5 & \\color{red}7 \\end{pmatrix} \\times \\begin{pmatrix} 2 & \\color{blue}4 \\\\ 6 & \\color{blue}8 \\end{pmatrix} = \\begin{pmatrix} 20 & 28 \\\\ 52 & \\color{red}5 \\times \\color{blue}4 + \\color{red}7 \\times \\color{blue}8 \\end{pmatrix}$$\n",
    "\n",
    "$$\\begin{pmatrix} 1 & 3 \\\\ 5 & 7 \\end{pmatrix} \\times \\begin{pmatrix} 2 & 4 \\\\ 6 & 8 \\end{pmatrix} = \\begin{pmatrix} 20 & 28 \\\\ 52 & 76 \\end{pmatrix}$$\n",
    "This can be extended for larger square matrices.\n",
    "\n",
    "Matrix multiplication doesn't just work for square matrices. As long as the number of columns in the first matrix matches the number of rows in the second the multiplication will be defined (i.e. if the red numbers above the braces below are equal then the multiplication can take place).\n",
    "\n",
    "$$ \\overbrace{ \\begin{pmatrix} 1 & 4 \\end{pmatrix} }^{\\color{blue}1 \\times \\color{red}2} \\times \\overbrace{ \\begin{pmatrix} 2 & 3 & 1 \\\\ 4 & 0 & -1\\end{pmatrix} }^{ \\color{red}2 \\times \\color{blue}3} = \\overbrace{ \\begin{pmatrix} 18 & 3 & -3 \\end{pmatrix} }^{ \\color{blue}1 \\times \\color{blue}3} $$\n",
    "\n",
    "Notice that number of rows in the first matrix and the number of columns in the second matrix gives the dimensions of the resulting matrix (i.e. blue numbers above on the LHS give the dimensions of the resulting matrix). \n",
    "\n",
    "From this it is important to note that the order matters with matrix multiplication. Multiplying two matrices in a different order can give a different answer or may not even be possible. Matrix multiplication is not commutative i.e. usually $A \\times B \\neq B \\times A $. \n",
    "\n",
    "The answer is given by rows multiplied by columns as before - the working is shown below.\n",
    "\n",
    "$$ \\begin{pmatrix} \\color{red}1 & \\color{red}4 \\end{pmatrix} \\times \\begin{pmatrix} \\color{blue}2 & 3 & 1 \\\\ \\color{blue}4 & 0 & -1\\end{pmatrix} = \\begin{pmatrix} \\color{red}1 \\times \\color{blue}2 + \\color{red}4 \\times \\color{blue}4 & 3 & -3 \\end{pmatrix}$$\n",
    "$$ \\begin{pmatrix} \\color{red}1 & \\color{red}4 \\end{pmatrix} \\times \\begin{pmatrix} 2 & \\color{blue}3 & 1 \\\\ 4 & \\color{blue}0 & -1\\end{pmatrix} = \\begin{pmatrix} 18 & \\color{red}1 \\times \\color{blue}3 + \\color{red}4 \\times \\color{blue}0 & -3 \\end{pmatrix}$$\n",
    " $$\\begin{pmatrix} \\color{red}1 & \\color{red}4 \\end{pmatrix} \\times \\begin{pmatrix} 2 & 3 & \\color{blue}1 \\\\ 4 & 0 & \\color{blue}{-1}\\end{pmatrix} = \\begin{pmatrix} 18 & 3 & \\color{red}1 \\times \\color{blue}1 + \\color{red}4 \\times \\color{blue}{-1} \\end{pmatrix}$$"
   ]
  },
  {
   "cell_type": "markdown",
   "metadata": {
    "slideshow": {
     "slide_type": "slide"
    }
   },
   "source": [
    "Here's a neat picture explaining the procedure from wikipedia:\n",
    "\n",
    "![Matrix addition example](https://upload.wikimedia.org/wikipedia/commons/thumb/e/eb/Matrix_multiplication_diagram_2.svg/800px-Matrix_multiplication_diagram_2.svg.png)\n",
    "\n",
    "The row elements are multiplied by corresponding column elements in the other matrix then added. [More information can be found on wikipedia](https://en.wikipedia.org/wiki/Matrix_multiplication)"
   ]
  },
  {
   "cell_type": "markdown",
   "metadata": {
    "slideshow": {
     "slide_type": "slide"
    }
   },
   "source": [
    "## Key Points:\n",
    "- Good luck creating your programs"
   ]
  }
 ],
 "metadata": {
  "celltoolbar": "Slideshow",
  "kernelspec": {
   "display_name": "Python 3",
   "language": "python",
   "name": "python3"
  },
  "language_info": {
   "codemirror_mode": {
    "name": "ipython",
    "version": 3
   },
   "file_extension": ".py",
   "mimetype": "text/x-python",
   "name": "python",
   "nbconvert_exporter": "python",
   "pygments_lexer": "ipython3",
   "version": "3.5.3"
  }
 },
 "nbformat": 4,
 "nbformat_minor": 2
}
