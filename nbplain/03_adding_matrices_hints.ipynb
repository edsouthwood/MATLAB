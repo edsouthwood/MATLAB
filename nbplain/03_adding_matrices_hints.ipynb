{
 "cells": [
  {
   "cell_type": "markdown",
   "metadata": {
    "slideshow": {
     "slide_type": "slide"
    }
   },
   "source": [
    "# Adding Matrices - Hints"
   ]
  },
  {
   "cell_type": "markdown",
   "metadata": {
    "slideshow": {
     "slide_type": "subslide"
    }
   },
   "source": [
    "## Overview:\n",
    "- **Teaching:** 5 min\n",
    "- **Exercises:** 10 min\n",
    "\n",
    "**Questions**\n",
    "- What MATLAB functions will be useful in coding matrix addition?\n",
    "\n",
    "**Objectives**\n",
    "- understand how to use the `size` function\n",
    "- be able to use nested `for` loops\n",
    "- remember how to declare a `function`\n",
    "- remember how to test for equality `==`\n",
    "- use the `zeros` function to store answers\n",
    "- read pseudocode"
   ]
  },
  {
   "cell_type": "markdown",
   "metadata": {
    "slideshow": {
     "slide_type": "slide"
    }
   },
   "source": [
    "### Size function\n",
    "\n",
    "We must first be able to find out the size of a given matrix. The `size` command is useful for this. Consider the following example."
   ]
  },
  {
   "cell_type": "code",
   "execution_count": 1,
   "metadata": {},
   "outputs": [
    {
     "name": "stdout",
     "output_type": "stream",
     "text": [
      "X =\n",
      "\n",
      "    1    2    3    4    5\n",
      "    6    7    8    9   10\n",
      "\n",
      "dimesions =\n",
      "\n",
      "   2   5\n",
      "\n",
      "rows =  2\n",
      "columns =  5\n"
     ]
    }
   ],
   "source": [
    "X = [1:5 ; 6:10]\n",
    "dimesions = size(X)\n",
    "rows = dimesions(1)\n",
    "columns = dimesions(2)"
   ]
  },
  {
   "cell_type": "markdown",
   "metadata": {},
   "source": [
    "## Information: size function\n",
    "`size(M)` returns a matrix `[r,c]` containing the number of rows, r, and the number of columns, c, of matrix `M`."
   ]
  },
  {
   "cell_type": "markdown",
   "metadata": {},
   "source": [
    "### For loop recap\n",
    "\n",
    "We also need to be able to loop through elements in a matrix to add each element together. Using the Matrix `X` and the variable rows as defined earlier we can use a `for` loop to loop through the rows of `X`. Remeber `X(1,:)` returns the first row of matrix `X`."
   ]
  },
  {
   "cell_type": "code",
   "execution_count": 2,
   "metadata": {},
   "outputs": [
    {
     "name": "stdout",
     "output_type": "stream",
     "text": [
      "Row 1 is: ans =\r\n",
      "\r\n",
      "   1   2   3   4   5\r\n",
      "\r\n",
      "Row 2 is: ans =\r\n",
      "\r\n",
      "    6    7    8    9   10\r\n",
      "\r\n"
     ]
    }
   ],
   "source": [
    "for row = 1:rows\n",
    "    printf(\"Row %d is: \", row)\n",
    "    X(row,:)\n",
    "end"
   ]
  },
  {
   "cell_type": "markdown",
   "metadata": {},
   "source": [
    "To cycle through each element in the `X` we can use nested `for` loops. Nested `for` loops are loops inside other loops. Consider the following example again about matrix `X`."
   ]
  },
  {
   "cell_type": "code",
   "execution_count": 3,
   "metadata": {},
   "outputs": [
    {
     "name": "stdout",
     "output_type": "stream",
     "text": [
      "Element from row 1, column 1 ans =  1\r\n",
      "Element from row 1, column 2 ans =  2\r\n",
      "Element from row 1, column 3 ans =  3\r\n",
      "Element from row 1, column 4 ans =  4\r\n",
      "Element from row 1, column 5 ans =  5\r\n",
      "Element from row 2, column 1 ans =  6\r\n",
      "Element from row 2, column 2 ans =  7\r\n",
      "Element from row 2, column 3 ans =  8\r\n",
      "Element from row 2, column 4 ans =  9\r\n",
      "Element from row 2, column 5 ans =  10\r\n"
     ]
    }
   ],
   "source": [
    "for row = 1:rows\n",
    "    for column = 1:columns\n",
    "        printf(\"Element from row %d, column %d \", row, column)%note in MATLAB this function is called fprintf\n",
    "        X(row,column)\n",
    "    end\n",
    "end"
   ]
  },
  {
   "cell_type": "markdown",
   "metadata": {},
   "source": [
    "### Information: For loops\n",
    "A `for` loop repeats a set of instructions for each element in an array."
   ]
  },
  {
   "cell_type": "markdown",
   "metadata": {},
   "source": [
    "### Checking for equality\n",
    "Next is a little reminder on how we can check if two quantities are equal."
   ]
  },
  {
   "cell_type": "code",
   "execution_count": 4,
   "metadata": {},
   "outputs": [
    {
     "name": "stdout",
     "output_type": "stream",
     "text": [
      "rows =  2\n",
      "This code will get executed\n"
     ]
    }
   ],
   "source": [
    "rows = 2\n",
    "\n",
    "if rows == 2\n",
    "    disp(\"This code will get executed\")\n",
    "end\n",
    "\n",
    "if rows != 2 % not equal is written as ~= in MATLAB\n",
    "    disp(\"This code won't get executed\")\n",
    "end"
   ]
  },
  {
   "cell_type": "markdown",
   "metadata": {},
   "source": [
    "### Information: Equality\n",
    "Remember `=` is used to assign a value to a variable. `==` is used to check if two things are equal."
   ]
  },
  {
   "cell_type": "markdown",
   "metadata": {},
   "source": [
    "### zeros function\n",
    "It is often useful to have somewhere to store answers. We can do this by creating a matrix full of zeros using the `zeros` function. For example:"
   ]
  },
  {
   "cell_type": "code",
   "execution_count": 5,
   "metadata": {},
   "outputs": [
    {
     "name": "stdout",
     "output_type": "stream",
     "text": [
      "ans =\r\n",
      "\r\n",
      "   0   0   0\r\n",
      "   0   0   0\r\n",
      "\r\n"
     ]
    }
   ],
   "source": [
    "zeros(2,3)"
   ]
  },
  {
   "cell_type": "markdown",
   "metadata": {},
   "source": [
    "### Information: zeros function\n",
    "It is often useful to create a place to store your answers, `zeros(n,m)` will create an `n` by `m` array of zeros."
   ]
  },
  {
   "cell_type": "markdown",
   "metadata": {},
   "source": [
    "### Defining functions\n",
    "Finally we'll need to wrap all this stuff into a `function`. When you define a function you define the functions inputs and outputs. Remember that the variable names inside the function are local to it and won't interfere with variables of the same name outside the function."
   ]
  },
  {
   "cell_type": "code",
   "execution_count": 6,
   "metadata": {},
   "outputs": [
    {
     "name": "stdout",
     "output_type": "stream",
     "text": [
      "M =\n",
      "\n",
      "   16    2    3   13\n",
      "    5   11   10    8\n",
      "    9    7    6   12\n",
      "    4   14   15    1\n",
      "\n",
      "The number of rows in M is...\n",
      "ans =  4\n"
     ]
    }
   ],
   "source": [
    "function output = getMatrixRows (matrix);\n",
    "    dimesions = size(matrix);\n",
    "    rows = dimesions(1);\n",
    "    output = rows;\n",
    "end\n",
    "\n",
    "M = magic(4)\n",
    "disp(\"The number of rows in M is...\")\n",
    "getMatrixRows(M)"
   ]
  },
  {
   "cell_type": "markdown",
   "metadata": {},
   "source": [
    "### Information: function declaration\n",
    "Remember that a function only has access to the variables that are passed into it. Also, the variable names used inside the function can be the same as variable names outside the function - each function has its own name space."
   ]
  },
  {
   "cell_type": "markdown",
   "metadata": {},
   "source": [
    "## Exercise: Create the adding matrices funciton\n",
    "Finally all of these elements are going to be drawn together to make the whole function. I have given an outline of the function in psuedocode (Psuedocode is easily readible 'almost code' that makes writing the final program easier). Convert the psuedocode into realcode!:\n",
    "```\n",
    "function answer = addMatrices(A,B)\n",
    "\n",
    "rows_A\n",
    "rows_B\n",
    "columns_A\n",
    "columns_B\n",
    "\n",
    "answer = empty matrix to store answers\n",
    "\n",
    "if rows in A and B are not equal\n",
    "    print matrices must have the smae number of rows\n",
    "end\n",
    "\n",
    "if columns in A and B are not equal\n",
    "    print matrices must have the same number of columns\n",
    "end\n",
    "\n",
    "for row in rows\n",
    "    for column in columns\n",
    "        answer(row,column) = A(row,column) + B(row,column)\n",
    "    end\n",
    "end\n",
    "\n",
    "end\n",
    "\n",
    "```\n",
    "\n",
    "[Solution](03_adding_matrices_hints-soln.ipynb)"
   ]
  },
  {
   "cell_type": "markdown",
   "metadata": {
    "slideshow": {
     "slide_type": "slide"
    }
   },
   "source": [
    "## Key Points:\n",
    "- `size` can be used to get the dimesions of a matrix\n",
    "- `for` loops can be placed inside each other\n",
    "- `==` can be used to check equality\n",
    "- `~=` is for not equal"
   ]
  }
 ],
 "metadata": {
  "celltoolbar": "Slideshow",
  "kernelspec": {
   "display_name": "Octave",
   "language": "octave",
   "name": "octave"
  },
  "language_info": {
   "file_extension": ".m",
   "help_links": [
    {
     "text": "GNU Octave",
     "url": "https://www.gnu.org/software/octave/support.html"
    },
    {
     "text": "Octave Kernel",
     "url": "https://github.com/Calysto/octave_kernel"
    },
    {
     "text": "MetaKernel Magics",
     "url": "https://metakernel.readthedocs.io/en/latest/source/README.html"
    }
   ],
   "mimetype": "text/x-octave",
   "name": "octave",
   "version": "4.0.3"
  }
 },
 "nbformat": 4,
 "nbformat_minor": 2
}
