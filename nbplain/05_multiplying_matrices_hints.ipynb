{
 "cells": [
  {
   "cell_type": "markdown",
   "metadata": {
    "slideshow": {
     "slide_type": "slide"
    }
   },
   "source": [
    "# Multiplying Matrices - Hints"
   ]
  },
  {
   "cell_type": "markdown",
   "metadata": {
    "slideshow": {
     "slide_type": "subslide"
    }
   },
   "source": [
    "## Overview:\n",
    "- **Teaching:** 5 min\n",
    "- **Exercises:** 10 min\n",
    "\n",
    "**Questions**\n",
    "- What MATLAB functions will be useful in coding matrix multiplication?\n",
    "\n",
    "**Objectives**\n",
    "- use nested loops\n",
    "- read pseudocode"
   ]
  },
  {
   "cell_type": "markdown",
   "metadata": {
    "slideshow": {
     "slide_type": "slide"
    }
   },
   "source": [
    "The definition of matrix multiplication is that if C = AB for an n × m matrix A and an m × p matrix B, then C is an n × p matrix with entries.\n",
    "\n",
    "![matrix multiplcation](https://wikimedia.org/api/rest_v1/media/math/render/svg/ba8325b6314b3520051ae287bdf8fdda1a724bfa)\n",
    "\n",
    "Pseudocode for matrix multiplication:\n",
    "\n",
    "`Input: matrices A and B\n",
    "Let C be a new matrix of the appropriate size\n",
    "For i from 1 to n:\n",
    "    For j from 1 to p:\n",
    "    Let sum = 0\n",
    "        For k from 1 to m:\n",
    "            Set sum = sum + Aik × Bkj\n",
    "Set Cij = sum\n",
    "Return C`"
   ]
  },
  {
   "cell_type": "markdown",
   "metadata": {},
   "source": [
    "## Exercise: Create the multiplying matrices funciton\n",
    "\n",
    "Convert the above pseduocode into real working MASTLAB code\n",
    "\n",
    "[Solution](05_multiplying_matrices_hints-soln.ipynb)"
   ]
  }
 ],
 "metadata": {
  "celltoolbar": "Slideshow",
  "kernelspec": {
   "display_name": "Octave",
   "language": "octave",
   "name": "octave"
  },
  "language_info": {
   "file_extension": ".m",
   "help_links": [
    {
     "text": "GNU Octave",
     "url": "https://www.gnu.org/software/octave/support.html"
    },
    {
     "text": "Octave Kernel",
     "url": "https://github.com/Calysto/octave_kernel"
    },
    {
     "text": "MetaKernel Magics",
     "url": "https://metakernel.readthedocs.io/en/latest/source/README.html"
    }
   ],
   "mimetype": "text/x-octave",
   "name": "octave",
   "version": "4.0.3"
  }
 },
 "nbformat": 4,
 "nbformat_minor": 2
}
