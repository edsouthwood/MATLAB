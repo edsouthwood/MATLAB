{
 "cells": [
  {
   "cell_type": "markdown",
   "metadata": {
    "slideshow": {
     "slide_type": "slide"
    }
   },
   "source": [
    "# Multiplying Matrices - Solution"
   ]
  },
  {
   "cell_type": "code",
   "execution_count": 1,
   "metadata": {},
   "outputs": [],
   "source": [
    "function output = multiMatrices (A,B);\n",
    "\n",
    "    dimesions_of_A = size(A);\n",
    "    dimesions_of_B = size(B);\n",
    "    \n",
    "    rows_A = dimesions_of_A(1);\n",
    "    columns_A = dimesions_of_A(2);\n",
    "    \n",
    "    rows_B = dimesions_of_B(1);\n",
    "    columns_B = dimesions_of_B(2);\n",
    "\n",
    "    if columns_A ~= rows_B\n",
    "        disp(\"dimension mismatch\")\n",
    "        return\n",
    "    end\n",
    "    \n",
    "    output = zeros(rows_A, columns_B);\n",
    "    \n",
    "    for rowA = 1:rows_A\n",
    "        for columnB = 1:columns_B\n",
    "            for rowB = 1:rows_B\n",
    "                output(rowA,columnB) = output(rowA,columnB) + A(rowA,rowB) * B(rowB,columnB);\n",
    "            end\n",
    "        end\n",
    "    end\n",
    "end"
   ]
  },
  {
   "cell_type": "markdown",
   "metadata": {},
   "source": [
    "Testing the function: The identity matrix mulitplied by another matrix should just return the other matrix"
   ]
  },
  {
   "cell_type": "code",
   "execution_count": 2,
   "metadata": {},
   "outputs": [
    {
     "name": "stdout",
     "output_type": "stream",
     "text": [
      "I =\n",
      "\n",
      "Diagonal Matrix\n",
      "\n",
      "   1   0   0\n",
      "   0   1   0\n",
      "   0   0   1\n",
      "\n",
      "M =\n",
      "\n",
      "   8   1   6\n",
      "   3   5   7\n",
      "   4   9   2\n",
      "\n",
      "ans =\n",
      "\n",
      "   8   1   6\n",
      "   3   5   7\n",
      "   4   9   2\n",
      "\n"
     ]
    }
   ],
   "source": [
    "I = eye(3)\n",
    "M = magic(3)\n",
    "multiMatrices(I,M) %this should give M back"
   ]
  },
  {
   "cell_type": "markdown",
   "metadata": {},
   "source": [
    "Testing the function with two mismatched matrices."
   ]
  },
  {
   "cell_type": "code",
   "execution_count": 3,
   "metadata": {},
   "outputs": [
    {
     "name": "stdout",
     "output_type": "stream",
     "text": [
      "A =\n",
      "\n",
      "    1    2    3    4    5    6    7    8    9   10\n",
      "\n",
      "B =\n",
      "\n",
      "   8   1   6\n",
      "   3   5   7\n",
      "   4   9   2\n",
      "\n",
      "dimension mismatch\n"
     ]
    }
   ],
   "source": [
    "A = 1:10\n",
    "B = magic(3)\n",
    "multiMatrices(A,B)"
   ]
  },
  {
   "cell_type": "markdown",
   "metadata": {},
   "source": [
    "Testing the function with non-square matrices."
   ]
  },
  {
   "cell_type": "code",
   "execution_count": 4,
   "metadata": {},
   "outputs": [
    {
     "name": "stdout",
     "output_type": "stream",
     "text": [
      "C =\n",
      "\n",
      "   1   2   3\n",
      "   4   5   6\n",
      "\n",
      "D =\n",
      "\n",
      "    7    8\n",
      "    9   10\n",
      "   11   12\n",
      "\n",
      "ans =\n",
      "\n",
      "    58    64\n",
      "   139   154\n",
      "\n"
     ]
    }
   ],
   "source": [
    "C = [1 2 3; 4 5 6]\n",
    "D = [7 8; 9 10; 11 12]\n",
    "multiMatrices(C,D)"
   ]
  },
  {
   "cell_type": "markdown",
   "metadata": {
    "slideshow": {
     "slide_type": "slide"
    }
   },
   "source": [
    "## Key Points:\n",
    "- Good luck creating your programs"
   ]
  }
 ],
 "metadata": {
  "celltoolbar": "Slideshow",
  "kernelspec": {
   "display_name": "Octave",
   "language": "octave",
   "name": "octave"
  },
  "language_info": {
   "file_extension": ".m",
   "help_links": [
    {
     "text": "GNU Octave",
     "url": "https://www.gnu.org/software/octave/support.html"
    },
    {
     "text": "Octave Kernel",
     "url": "https://github.com/Calysto/octave_kernel"
    },
    {
     "text": "MetaKernel Magics",
     "url": "https://metakernel.readthedocs.io/en/latest/source/README.html"
    }
   ],
   "mimetype": "text/x-octave",
   "name": "octave",
   "version": "4.0.3"
  }
 },
 "nbformat": 4,
 "nbformat_minor": 2
}
